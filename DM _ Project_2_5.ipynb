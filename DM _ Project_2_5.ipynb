{
  "nbformat": 4,
  "nbformat_minor": 0,
  "metadata": {
    "colab": {
      "provenance": [],
      "include_colab_link": true
    },
    "kernelspec": {
      "name": "python3",
      "display_name": "Python 3"
    },
    "language_info": {
      "name": "python"
    }
  },
  "cells": [
    {
      "cell_type": "markdown",
      "metadata": {
        "id": "view-in-github",
        "colab_type": "text"
      },
      "source": [
        "<a href=\"https://colab.research.google.com/github/IlyaZutler/Project_2-Trucks/blob/main/DM%20_%20Project_2_5.ipynb\" target=\"_parent\"><img src=\"https://colab.research.google.com/assets/colab-badge.svg\" alt=\"Open In Colab\"/></a>"
      ]
    },
    {
      "cell_type": "markdown",
      "source": [
        "# Dynamic mitochondria Project - Heavy Machinery Auction Price Estimator\n",
        "\n",
        "> https://www.kaggle.com/t/9baafb8850d74e4499c7b1ba97d6f115\n",
        "\n",
        "### Timeline\n",
        "- **Start Date:** [Start Date]\n",
        "- **End Date:** 14/07/2024 (11 days to go)\n",
        "\n",
        "### 2. Exploratory Data Analysis (EDA)\n",
        "\n",
        "\n",
        "### 3. Data Preprocessing\n",
        "\n",
        "### 6. Model Improvement\n",
        "\n",
        "- Handle missing values and categorical variables more effectively.\n",
        "- Use feature importances to identify key features.\n",
        "- Perform feature engineering to create new informative features.\n",
        "- Tune hyperparameters using grid search or other techniques.\n",
        "- Monitor for overfitting by comparing training and testing performance.\n",
        "\n",
        "## Practical Data Science Guidelines\n",
        "\n",
        "- **Efficient Workflows:** Use a random subset of 20,000 rows for initial experiments. Use the full dataset for the final submission.\n",
        "- **Iterative Approach:** Start with a basic model and iteratively improve it by trying small ideas.\n",
        "- **Feature Engineering:** Transform and combine existing features creatively.\n",
        "- **Documentation:** Keep track of your experiments and results. Document what works and what doesn't.\n",
        "\n",
        "## Collaboration and Presentation\n",
        "\n",
        "- **Collaboration:** Discuss your work openly within your team or with other teams. Sharing insights and learning from each other is encouraged.\n",
        "- **Presentation:** Present your methodology, results, and the techniques that helped the most. Document your journey and the steps you took to achieve your results\n",
        "\n"
      ],
      "metadata": {
        "id": "nipVcj4V_QDy"
      }
    },
    {
      "cell_type": "code",
      "source": [
        "import gdown\n",
        "from pathlib import Path\n",
        "\n",
        "import pandas as pd\n",
        "import numpy as np\n",
        "pd.set_option('display.max_rows', 200)\n",
        "pd.set_option('display.max_columns', 200)\n",
        "\n",
        "import matplotlib.pyplot as plt\n",
        "import seaborn as sns\n",
        "\n",
        "from sklearn.preprocessing import OrdinalEncoder\n",
        "from sklearn.preprocessing import MinMaxScaler\n",
        "from sklearn.impute import SimpleImputer\n",
        "from sklearn.ensemble import RandomForestRegressor\n",
        "from sklearn.model_selection import train_test_split\n",
        "from sklearn.model_selection import train_test_split, GridSearchCV\n",
        "\n",
        "from sklearn.metrics import mean_squared_error, r2_score, mean_absolute_error\n"
      ],
      "metadata": {
        "id": "ddCt_SZwAXG6"
      },
      "execution_count": 159,
      "outputs": []
    },
    {
      "cell_type": "code",
      "source": [
        "def download_from_gdrive(url, filename):\n",
        "    # Extract the file ID from the URL\n",
        "    file_id = url.split('/')[-2]\n",
        "    download_url = f\"https://drive.google.com/uc?id={file_id}\"\n",
        "\n",
        "    # Download the file\n",
        "    if Path(filename).exists():\n",
        "        print(f\"File '{filename}' already exists. Skipping download.\")\n",
        "    else:\n",
        "        gdown.download(download_url, filename, quiet=False)\n",
        "        print(f\"File downloaded as: {filename}\")\n",
        "\n",
        "train = 'https://drive.google.com/file/d/1guqSpDv1Q7ZZjSbXMYGbrTvGns0VCyU5/view?usp=drive_link'\n",
        "valid = 'https://drive.google.com/file/d/1j7x8xhMimKbvW62D-XeDfuRyj9ia636q/view?usp=drive_link'\n",
        "# Example usage\n",
        "\n",
        "download_from_gdrive(train, 'train.csv')\n",
        "download_from_gdrive(valid, 'valid.csv')\n",
        "\n",
        "df = pd.read_csv('train.csv')\n",
        "df_valid = pd.read_csv('valid.csv')"
      ],
      "metadata": {
        "id": "2jdlNVVI8s_d",
        "outputId": "9058e634-d281-4e03-be5d-aaa0ba3defee",
        "colab": {
          "base_uri": "https://localhost:8080/"
        }
      },
      "execution_count": 160,
      "outputs": [
        {
          "output_type": "stream",
          "name": "stdout",
          "text": [
            "File 'train.csv' already exists. Skipping download.\n",
            "File 'valid.csv' already exists. Skipping download.\n"
          ]
        },
        {
          "output_type": "stream",
          "name": "stderr",
          "text": [
            "<ipython-input-160-861d4f7287ed>:20: DtypeWarning: Columns (13,39,40,41) have mixed types. Specify dtype option on import or set low_memory=False.\n",
            "  df = pd.read_csv('train.csv')\n"
          ]
        }
      ]
    },
    {
      "cell_type": "markdown",
      "source": [
        "## Exploratory Data Analysis (EDA)"
      ],
      "metadata": {
        "id": "dIQ1BlV7wZBe"
      }
    },
    {
      "cell_type": "code",
      "source": [
        "#df.fiProductClassDesc.value_counts()"
      ],
      "metadata": {
        "id": "30KP0HEQbhrB"
      },
      "execution_count": 137,
      "outputs": []
    },
    {
      "cell_type": "code",
      "source": [
        "#df.info()"
      ],
      "metadata": {
        "id": "pfswzVUcRrUt"
      },
      "execution_count": 138,
      "outputs": []
    },
    {
      "cell_type": "code",
      "source": [
        " #df.SalesID.nunique()"
      ],
      "metadata": {
        "id": "SVUG5kuEfcWT"
      },
      "execution_count": 139,
      "outputs": []
    },
    {
      "cell_type": "code",
      "source": [
        "# df.isnull().sum()"
      ],
      "metadata": {
        "id": "lEziG3fNwb-F"
      },
      "execution_count": 140,
      "outputs": []
    },
    {
      "cell_type": "code",
      "source": [
        "#df.describe()"
      ],
      "metadata": {
        "id": "vLqhFjn2R21j"
      },
      "execution_count": 141,
      "outputs": []
    },
    {
      "cell_type": "code",
      "source": [
        "#sns.histplot(data=df, x='SalePrice', bins=20)"
      ],
      "metadata": {
        "id": "TCdKm_ok94x5"
      },
      "execution_count": 142,
      "outputs": []
    },
    {
      "cell_type": "code",
      "source": [
        "# to see value_counts for all categorical columns, but some realy categorical columns has numerical type like ModelID\n",
        "categorical_cols = df.select_dtypes(exclude='number').columns\n",
        "for col in categorical_cols:\n",
        "  print(f\"Value counts for column '{col}':\")\n",
        "  print(df[col].value_counts())\n",
        "  print(f\"NaN values:{df[col].isnull().sum()}\")\n",
        "  print()"
      ],
      "metadata": {
        "id": "Zp2RHhayXZWC"
      },
      "execution_count": null,
      "outputs": []
    },
    {
      "cell_type": "markdown",
      "source": [
        "### 3. Data Preprocessing"
      ],
      "metadata": {
        "id": "PhCFYLEqQimv"
      }
    },
    {
      "cell_type": "code",
      "source": [
        "def Num_to_Object(X, col):\n",
        "    for col_ in col:\n",
        "        X[col] = X[col].astype('object')\n",
        "    return X\n",
        "\n",
        "\n",
        "df = Num_to_Object(df, col = ['datasource'])\n",
        "df_valid = Num_to_Object(df_valid, col = ['datasource'])"
      ],
      "metadata": {
        "id": "-HtK_91vYq-m"
      },
      "execution_count": 161,
      "outputs": []
    },
    {
      "cell_type": "code",
      "source": [
        "#df['Transmission'] = df['Transmission'].replace('AutoShift', 'Autoshift')\n",
        "def fix_mistakes(X, replacement_dict):\n",
        "    for col, replacements in replacement_dict.items():\n",
        "        X[col] = X[col].replace(replacements)\n",
        "    return X\n",
        "\n",
        "fix_mistakes(df, replacement_dict = {'Transmission': {'AutoShift': 'Autoshift'}})\n",
        "fix_mistakes(df_valid, replacement_dict = {'Transmission': {'AutoShift': 'Autoshift'}})"
      ],
      "metadata": {
        "id": "WSIdpODP2uYh"
      },
      "execution_count": null,
      "outputs": []
    },
    {
      "cell_type": "code",
      "source": [
        "def fix_data(X, date_col):\n",
        "    for col in date_col:\n",
        "        X[col] = pd.to_datetime(X[col])\n",
        "        X[col + '_Year'] = X[col].dt.year\n",
        "        X[col + '_Month'] = X[col].dt.month\n",
        "        X = X.drop(col, axis=1)\n",
        "    return X\n",
        "\n",
        "df = fix_data(df, date_col = ['saledate'])\n",
        "df_valid = fix_data(df_valid, date_col = ['saledate'])"
      ],
      "metadata": {
        "id": "Cnk0uWhQ3bwp"
      },
      "execution_count": 163,
      "outputs": []
    },
    {
      "cell_type": "code",
      "source": [
        "def first_word_name(X, col):\n",
        "    for col_ in col:\n",
        "        X[col_+'_first_word'] = X[col_].apply(lambda x: x.split()[0] if isinstance(x, str) else x)\n",
        "    return X\n",
        "\n",
        "first_word_name(df, col = ['fiProductClassDesc'])\n",
        "first_word_name(df_valid, col = ['fiProductClassDesc'])"
      ],
      "metadata": {
        "id": "7gIXEAiS4lg4"
      },
      "execution_count": null,
      "outputs": []
    },
    {
      "cell_type": "code",
      "source": [
        "def ord_encod_nan(X, col, categories):\n",
        "    encoder = OrdinalEncoder(categories=[categories], handle_unknown='use_encoded_value', unknown_value= -1)\n",
        "    X[col + '_3'] = encoder.fit_transform(X[[col]])\n",
        "    X[col + '_3'].replace(-1, np.nan, inplace=True)\n",
        "    X[col + '_3'] = pd.to_numeric(X[col + '_3'], errors='coerce')\n",
        "\n",
        "    return X\n",
        "\n",
        "\n",
        "df = ord_encod_nan(df, col = 'UsageBand', categories = ['Low', 'Medium', 'High'])\n",
        "df_valid = ord_encod_nan(df_valid, col = 'UsageBand', categories = ['Low', 'Medium', 'High'])\n",
        "\n",
        "df = ord_encod_nan(df, col = 'ProductSize', categories = ['Mini', 'Compact', 'Small', 'Medium', 'Large / Medium', 'Large', 'High'])\n",
        "df_valid = ord_encod_nan(df_valid, col = 'ProductSize', categories = ['Mini', 'Compact', 'Small', 'Medium', 'Large / Medium', 'Large', 'High'])"
      ],
      "metadata": {
        "id": "OXUfrZislrnv"
      },
      "execution_count": 165,
      "outputs": []
    },
    {
      "cell_type": "code",
      "source": [
        "def replace_dict(X, col, repl_dict):\n",
        "    new_name = col + '_3'\n",
        "\n",
        "    X[new_name] = X[col]\n",
        "    for old, new in repl_dict.items():\n",
        "        X[new_name] = X[new_name].str.replace(old, new, regex=False)\n",
        "    X[new_name].replace('None or Unspecified', -1)\n",
        "    X[new_name].replace(-1, np.nan, inplace=True)\n",
        "    X[new_name] = pd.to_numeric(X[new_name], errors='coerce')\n",
        "\n",
        "    return X\n",
        "\n",
        "df = replace_dict(df, col = 'Undercarriage_Pad_Width', repl_dict= {' inch': ''})\n",
        "df_valid = replace_dict(df_valid, col= 'Undercarriage_Pad_Width', repl_dict = {' inch': ''})\n",
        "\n",
        "df = replace_dict(df, col = 'Stick_Length', repl_dict= {\"' \": '.', '\"': ''})\n",
        "df_valid = replace_dict(df_valid, col= 'Stick_Length', repl_dict = {\"' \": '.', '\"': ''})"
      ],
      "metadata": {
        "id": "unmZNUg5AE6S"
      },
      "execution_count": 166,
      "outputs": []
    },
    {
      "cell_type": "code",
      "source": [
        "#df[df['YearMade'] == 1000].head(20) # i have not idias what to do with year 1000"
      ],
      "metadata": {
        "id": "oEEe-qSaHyHH"
      },
      "execution_count": 150,
      "outputs": []
    },
    {
      "cell_type": "markdown",
      "source": [
        "## Mean / Target encoding    (depend on test / train split)"
      ],
      "metadata": {
        "id": "zmFxzf7MFOTg"
      }
    },
    {
      "cell_type": "code",
      "source": [
        "def make_target_mean_dict(X, y):\n",
        "    X1 = X.copy()\n",
        "\n",
        "    y1 = pd.DataFrame(y)\n",
        "    X1 = pd.concat([X1, y1], axis=1)\n",
        "    X1 = X1.rename(columns={0: 'SalePrice'})\n",
        "\n",
        "    target_mean_dict = {}\n",
        "    target_nan_mean_dict = {}\n",
        "\n",
        "    for col in X1.select_dtypes(exclude='number').columns:\n",
        "        target_mean_dict[col] = X1.groupby(col)['SalePrice'].mean().to_dict()\n",
        "        target_nan_mean_dict[col] = X1[X1[col].isna()]['SalePrice'].mean()\n",
        "    X1 = X1.drop(columns=['SalePrice'])\n",
        "\n",
        "    return target_mean_dict, target_nan_mean_dict\n",
        "\n",
        "\n",
        "def target_encode(X, target_mean_dict, target_nan_mean_dict):\n",
        "    for col in X.select_dtypes(exclude='number').columns:\n",
        "        X[col + '_2'] = X[col].map(target_mean_dict[col]).fillna(target_nan_mean_dict[col])\n",
        "        X[col + '_2'] = X[col + '_2'].astype(float)\n",
        "    return X\n",
        "\n",
        "#target_mean_dict, target_nan_mean_dict = make_target_mean_dict(df, target_col = 'SalePrice')\n",
        "#df = target_encode(df, target_mean_dict, target_nan_mean_dict)\n",
        "#df_valid = target_encode(df_valid, target_mean_dict, target_nan_mean_dict)"
      ],
      "metadata": {
        "id": "yEsroVcqEqio"
      },
      "execution_count": 167,
      "outputs": []
    },
    {
      "cell_type": "markdown",
      "source": [
        "# Testing model whith different parametrs"
      ],
      "metadata": {
        "id": "GqOepCDgRE4N"
      }
    },
    {
      "cell_type": "code",
      "source": [
        "df2 = df.sample(400000, random_state=57)\n",
        "\n",
        "y = df2['SalePrice']\n",
        "X = df2.drop(columns=['SalePrice', 'SalesID', 'MachineID', 'ModelID'])\n",
        "\n",
        "X_train, X_test, y_train, y_test = train_test_split(X, y, test_size=0.2, random_state=179)\n",
        "\n",
        "target_mean_dict, target_nan_mean_dict = make_target_mean_dict(X_train, y_train)\n",
        "X_train = target_encode(X_train, target_mean_dict, target_nan_mean_dict)\n",
        "X_test = target_encode(X_test, target_mean_dict, target_nan_mean_dict)\n",
        "\n",
        "X_train = X_train.select_dtypes('number')\n",
        "X_test = X_test.select_dtypes('number')\n",
        "\n",
        "X_train = X_train.fillna(X_train.mean())\n",
        "X_test = X_test.fillna(X_train.mean())\n"
      ],
      "metadata": {
        "id": "A2rncyq9T5qA"
      },
      "execution_count": 168,
      "outputs": []
    },
    {
      "cell_type": "code",
      "source": [
        "X_train.shape"
      ],
      "metadata": {
        "id": "M_KjOZFZHx2e",
        "outputId": "2fdccd51-1365-49f1-a82a-856b9be8e8eb",
        "colab": {
          "base_uri": "https://localhost:8080/"
        }
      },
      "execution_count": 173,
      "outputs": [
        {
          "output_type": "execute_result",
          "data": {
            "text/plain": [
              "(320000, 55)"
            ]
          },
          "metadata": {},
          "execution_count": 173
        }
      ]
    },
    {
      "cell_type": "code",
      "source": [
        "%%time\n",
        "\n",
        "model = RandomForestRegressor(n_jobs=-1,\n",
        "                              n_estimators = 300,\n",
        "                              #max_depth = 10,\n",
        "                              min_impurity_decrease = 10,\n",
        "                              random_state = 42,\n",
        "                              max_features = 8\n",
        "                              )\n",
        "model.fit(X_train, y_train)\n",
        "\n",
        "y_train_pred = model.predict(X_train)\n",
        "y_test_pred = model.predict(X_test)\n",
        "\n",
        "print(f'Train RMSE:', np.sqrt(mean_squared_error(y_train, y_train_pred)))\n",
        "print(f'Test RMSE:', np.sqrt(mean_squared_error(y_test, y_test_pred)))\n",
        "print(f'R²:' , r2_score(y_test, y_test_pred))\n",
        "print(f'Train MAE:', mean_absolute_error(y_train, y_train_pred))\n",
        "print(f'Test MAE:', mean_absolute_error(y_test, y_test_pred))\n"
      ],
      "metadata": {
        "id": "s0pTS5Uow-Fj",
        "outputId": "3a0e2f10-9e7c-49f8-ab50-7a83ca81bdcf",
        "colab": {
          "base_uri": "https://localhost:8080/"
        }
      },
      "execution_count": 177,
      "outputs": [
        {
          "output_type": "stream",
          "name": "stdout",
          "text": [
            "Train RMSE: 3129.7726500250565\n",
            "Test RMSE: 7138.525423686593\n",
            "R²: 0.9046329904994382\n",
            "Train MAE: 2175.8268011133937\n",
            "Test MAE: 4526.84876257044\n",
            "CPU times: user 7min 52s, sys: 3.81 s, total: 7min 56s\n",
            "Wall time: 5min 31s\n"
          ]
        }
      ]
    },
    {
      "cell_type": "markdown",
      "source": [
        "# Testing Grid of parametrs"
      ],
      "metadata": {
        "id": "jXxE3LdVw-8T"
      }
    },
    {
      "cell_type": "code",
      "source": [
        "# %%time\n",
        "# param_grid = {\n",
        "#     'max_features': ['auto', 'sqrt', 'log2'],\n",
        "#     'min_impurity_decrease': [10, 100, 1000],\n",
        "#     'n_estimators': [200, 400]\n",
        "# }\n",
        "\n",
        "# model = RandomForestRegressor(n_jobs=-1,\n",
        "#                               #n_estimators = 700,\n",
        "#                               #max_depth = 10,\n",
        "#                               #min_impurity_decrease = 10,\n",
        "#                               random_state = 42,\n",
        "#                               #max_features = 'sqrt'\n",
        "#                               )\n",
        "# model.fit(X_train, y_train)\n",
        "# Настраиваем метрики для GridSearchCV\n",
        "# scoring = {\n",
        "#     'MSE': make_scorer(mean_squared_error, greater_is_better=False),\n",
        "#     'R2': make_scorer(r2_score),\n",
        "#     'MAE': make_scorer(mean_absolute_error, greater_is_better=False)\n",
        "# }\n",
        "\n",
        "# # Настраиваем GridSearchCV\n",
        "# grid_search = GridSearchCV(estimator=model, param_grid=param_grid, n_jobs=-1, scoring=scoring, refit='R2', return_train_score=True)\n",
        "# grid_search.fit(X_train, y_train)\n",
        "\n",
        "# Получаем результаты всех тестов на сетке\n",
        "#results = grid_search.cv_results_\n",
        "\n",
        "# Печатаем результаты тестов на всех параметрах сетки\n",
        "# for mean_score, params in zip(results['mean_test_score'], results['params']):\n",
        "#     print(f\"Params: {params} - Mean Test Score (negative MSE): {mean_score}\")\n",
        "\n",
        "# # Получаем результаты всех тестов на сетке\n",
        "# results = grid_search.cv_results_\n",
        "\n",
        "# # Печатаем результаты тестов на всех параметрах сетки для каждой метрики\n",
        "# for mean_mse, mean_r2, mean_mae, params in zip(results['mean_test_MSE'], results['mean_test_R2'], results['mean_test_MAE'], results['params']):\n",
        "#     print(f\"Params: {params} - Mean Test MSE: {mean_mse} - Mean Test R2: {mean_r2} - Mean Test MAE: {mean_mae}\")\n",
        "\n",
        "# # Лучшие параметры и модель по метрике R2\n",
        "# best_params = grid_search.best_params_\n",
        "# best_model = grid_search.best_estimator_\n",
        "# print(f\"\\nBest Parameters: {best_params}\")\n",
        "\n",
        "# # Оценка лучшей модели на тестовом наборе\n",
        "# y_test_pred = best_model.predict(X_test)\n",
        "# test_mse = mean_squared_error(y_test, y_test_pred)\n",
        "# test_r2 = r2_score(y_test, y_test_pred)\n",
        "# test_mae = mean_absolute_error(y_test, y_test_pred)\n",
        "# print(f\"\\nTest MSE of the Best Model: {test_mse:.2f}\")\n",
        "# print(f\"Test R2 of the Best Model: {test_r2:.2f}\")\n",
        "# print(f\"Test MAE of the Best Model: {test_mae:.2f}\")"
      ],
      "metadata": {
        "id": "XCqjoGIAMQRp",
        "outputId": "3ded6871-e8a1-46b9-d21f-a1bfb032e069",
        "colab": {
          "base_uri": "https://localhost:8080/"
        }
      },
      "execution_count": 153,
      "outputs": [
        {
          "output_type": "stream",
          "name": "stderr",
          "text": [
            "/usr/local/lib/python3.10/dist-packages/joblib/externals/loky/process_executor.py:752: UserWarning: A worker stopped while some jobs were given to the executor. This can be caused by a too short worker timeout or by a memory leak.\n",
            "  warnings.warn(\n",
            "/usr/local/lib/python3.10/dist-packages/sklearn/ensemble/_forest.py:413: FutureWarning: `max_features='auto'` has been deprecated in 1.1 and will be removed in 1.3. To keep the past behaviour, explicitly set `max_features=1.0` or remove this parameter as it is also the default value for RandomForestRegressors and ExtraTreesRegressors.\n",
            "  warn(\n"
          ]
        },
        {
          "output_type": "stream",
          "name": "stdout",
          "text": [
            "Best parameters: {'max_features': 'auto', 'min_impurity_decrease': 1000, 'n_estimators': 400}\n",
            "Best score (negative MSE): -66311691.2120053\n",
            "Train MSE: 9670726.40\n",
            "Test MSE: 103813255.32\n",
            "CPU times: user 2min 4s, sys: 3.2 s, total: 2min 7s\n",
            "Wall time: 26min 1s\n"
          ]
        }
      ]
    },
    {
      "cell_type": "code",
      "source": [
        "### Feature importance\n",
        "pd.Series(\n",
        "    model.feature_importances_,\n",
        "    index=model.feature_names_in_\n",
        ").sort_values(ascending=False)"
      ],
      "metadata": {
        "id": "jcMpXIs0PO_m",
        "outputId": "e73c1a2a-f985-4de3-ffab-b82967c828e8",
        "colab": {
          "base_uri": "https://localhost:8080/"
        }
      },
      "execution_count": 154,
      "outputs": [
        {
          "output_type": "execute_result",
          "data": {
            "text/plain": [
              "fiModelDesc_2                      0.781362\n",
              "saledate_Year                      0.060615\n",
              "YearMade                           0.047551\n",
              "state_2                            0.013529\n",
              "saledate_Month                     0.012519\n",
              "fiBaseModel_2                      0.009842\n",
              "fiProductClassDesc_2               0.008047\n",
              "auctioneerID                       0.007366\n",
              "Enclosure_2                        0.005385\n",
              "fiSecondaryDesc_2                  0.004917\n",
              "MachineHoursCurrentMeter           0.004799\n",
              "Tire_Size_2                        0.003676\n",
              "Ripper_2                           0.003376\n",
              "fiModelDescriptor_2                0.002428\n",
              "Hydraulics_2                       0.002170\n",
              "Blade_Type_2                       0.002048\n",
              "datasource_2                       0.002027\n",
              "fiModelSeries_2                    0.001844\n",
              "Coupler_2                          0.001839\n",
              "Stick_Length_2                     0.001798\n",
              "Transmission_2                     0.001778\n",
              "Stick_Length_3                     0.001728\n",
              "ProductSize_3                      0.001615\n",
              "ProductSize_2                      0.001521\n",
              "Undercarriage_Pad_Width_2          0.001139\n",
              "UsageBand_2                        0.001117\n",
              "UsageBand_3                        0.001099\n",
              "Thumb_2                            0.001058\n",
              "Travel_Controls_2                  0.001033\n",
              "Undercarriage_Pad_Width_3          0.000984\n",
              "Grouser_Type_2                     0.000957\n",
              "Forks_2                            0.000832\n",
              "Drive_System_2                     0.000748\n",
              "Ride_Control_2                     0.000711\n",
              "Tip_Control_2                      0.000634\n",
              "Blade_Width_2                      0.000583\n",
              "Enclosure_Type_2                   0.000485\n",
              "Scarifier_2                        0.000482\n",
              "Pattern_Changer_2                  0.000474\n",
              "fiProductClassDesc_first_word_2    0.000451\n",
              "Differential_Type_2                0.000451\n",
              "ProductGroup_2                     0.000430\n",
              "ProductGroupDesc_2                 0.000404\n",
              "Pushblock_2                        0.000392\n",
              "Track_Type_2                       0.000361\n",
              "Steering_Controls_2                0.000346\n",
              "Engine_Horsepower_2                0.000265\n",
              "Stick_2                            0.000245\n",
              "Backhoe_Mounting_2                 0.000222\n",
              "Blade_Extension_2                  0.000127\n",
              "Pad_Type_2                         0.000095\n",
              "Turbocharged_2                     0.000063\n",
              "Grouser_Tracks_2                   0.000016\n",
              "Coupler_System_2                   0.000009\n",
              "Hydraulics_Flow_2                  0.000009\n",
              "dtype: float64"
            ]
          },
          "metadata": {},
          "execution_count": 154
        }
      ]
    },
    {
      "cell_type": "markdown",
      "source": [
        "# Prediction on the Validation datas"
      ],
      "metadata": {
        "id": "PgFGEJyeTLLo"
      }
    },
    {
      "cell_type": "code",
      "source": [
        "# df2 = df.select_dtypes('number')\n",
        "# X_valid2 = df_valid.select_dtypes('number')\n",
        "\n",
        "# y = df2['SalePrice']\n",
        "# X = df2.drop(columns=['SalePrice', 'MachineID', 'ModelID', 'SalesID'])\n",
        "# X_valid = X_valid2.drop(columns=['MachineID', 'ModelID', 'SalesID'])\n",
        "\n",
        "\n",
        "# target_mean_dict, target_nan_mean_dict = make_target_mean_dict(X, y)\n",
        "# X = target_encode(X, target_mean_dict, target_nan_mean_dict)\n",
        "# X_valid = target_encode(X_valid, target_mean_dict, target_nan_mean_dict)\n",
        "\n",
        "# X = X.select_dtypes('number')\n",
        "# X_valid = X_valid.select_dtypes('number')\n",
        "\n",
        "# X = X.fillna(X.mean())\n",
        "# X_valid = X_valid.fillna(X.mean())"
      ],
      "metadata": {
        "id": "sKxLR3BATK6Q"
      },
      "execution_count": 155,
      "outputs": []
    },
    {
      "cell_type": "code",
      "source": [
        "# %%time\n",
        "# model = RandomForestRegressor(n_jobs=-1,\n",
        "#                               n_estimators = 700,\n",
        "#                               #max_depth = 10,\n",
        "#                               min_impurity_decrease = 10,\n",
        "#                               random_state = 42,\n",
        "#                               max_features = 'sqrt',\n",
        "#                               #max_samples=0.75\n",
        "#                               )\n",
        "# model.fit(X, y)\n",
        "\n",
        "# y_valid_pred = model.predict(X_valid)"
      ],
      "metadata": {
        "id": "uTzB3ECpTy9I"
      },
      "execution_count": 156,
      "outputs": []
    },
    {
      "cell_type": "code",
      "source": [
        "# Create a submission file\n",
        "# submission = pd.DataFrame({'SalesID': X_valid['SalesID'], 'SalePrice': y_valid_pred})\n",
        "# submission.to_csv('final_submission.csv', index=False)"
      ],
      "metadata": {
        "id": "P5NywMhp16nq"
      },
      "execution_count": 157,
      "outputs": []
    },
    {
      "cell_type": "markdown",
      "source": [
        "### not used"
      ],
      "metadata": {
        "id": "YSS8GYcYLvy2"
      }
    },
    {
      "cell_type": "code",
      "source": [
        "# scaler = MinMaxScaler()  -   nothing to chenge\n",
        "# X_train = pd.DataFrame(scaler.fit_transform(X_train), columns=X_train.columns, index=X_train.index)\n",
        "# X_test = pd.DataFrame(scaler.transform(X_test), columns=X_test.columns, index=X_test.index)\n",
        "# X_valid = pd.DataFrame(scaler.transform(X_valid), columns=X_valid.columns, index=X_valid.index)\n",
        "\n",
        "# feature_names = X_train.columns  is is aufully compicated\n",
        "# imputer = SimpleImputer(strategy='mean')\n",
        "# X_train = imputer.fit_transform(X_train)\n",
        "# X_test = imputer.transform(X_test)\n",
        "# X_valid = imputer.transform(X_valid)\n",
        "# X_train = pd.DataFrame(X_train, columns=feature_names)\n",
        "# X_test = pd.DataFrame(X_test, columns=feature_names)\n",
        "# X_valid = pd.DataFrame(X_valid, columns=feature_names)\n",
        "\n",
        "# import seaborn as sns\n",
        "# import matplotlib.pyplot as plt\n",
        "\n",
        "# plt.figure(figsize=(20, 20))\n",
        "# sns.heatmap(X.corr(), vmin=-1, fmt=\".1f\", vmax=1, annot=True, cmap='BrBG')\n",
        "# plt.show()"
      ],
      "metadata": {
        "id": "afhKgZflUIDf"
      },
      "execution_count": 158,
      "outputs": []
    }
  ]
}