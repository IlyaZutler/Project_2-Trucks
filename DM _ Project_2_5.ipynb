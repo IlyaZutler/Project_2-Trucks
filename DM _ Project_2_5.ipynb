{
  "nbformat": 4,
  "nbformat_minor": 0,
  "metadata": {
    "colab": {
      "provenance": [],
      "include_colab_link": true
    },
    "kernelspec": {
      "name": "python3",
      "display_name": "Python 3"
    },
    "language_info": {
      "name": "python"
    }
  },
  "cells": [
    {
      "cell_type": "markdown",
      "metadata": {
        "id": "view-in-github",
        "colab_type": "text"
      },
      "source": [
        "<a href=\"https://colab.research.google.com/github/IlyaZutler/Project_2-Trucks/blob/main/DM%20_%20Project_2_5.ipynb\" target=\"_parent\"><img src=\"https://colab.research.google.com/assets/colab-badge.svg\" alt=\"Open In Colab\"/></a>"
      ]
    },
    {
      "cell_type": "markdown",
      "source": [
        "# Dynamic mitochondria Project - Heavy Machinery Auction Price Estimator\n",
        "\n",
        "> https://www.kaggle.com/t/9baafb8850d74e4499c7b1ba97d6f115\n",
        "\n",
        "### Timeline\n",
        "- **Start Date:** [Start Date]\n",
        "- **End Date:** 14/07/2024 (11 days to go)\n",
        "\n",
        "### 2. Exploratory Data Analysis (EDA)\n",
        "\n",
        "\n",
        "### 3. Data Preprocessing\n",
        "\n",
        "- Handle missing values appropriately.\n",
        "- Encode categorical variables.\n",
        "- Normalize or standardize numerical features if necessary.\n",
        "\n",
        "### 6. Model Improvement\n",
        "\n",
        "- Handle missing values and categorical variables more effectively.\n",
        "- Use feature importances to identify key features.\n",
        "- Perform feature engineering to create new informative features.\n",
        "- Tune hyperparameters using grid search or other techniques.\n",
        "- Monitor for overfitting by comparing training and testing performance.\n",
        "\n",
        "\n",
        "## Practical Data Science Guidelines\n",
        "\n",
        "- **Efficient Workflows:** Use a random subset of 20,000 rows for initial experiments. Use the full dataset for the final submission.\n",
        "- **Iterative Approach:** Start with a basic model and iteratively improve it by trying small ideas.\n",
        "- **Feature Engineering:** Transform and combine existing features creatively.\n",
        "- **Documentation:** Keep track of your experiments and results. Document what works and what doesn't.\n",
        "\n",
        "## Collaboration and Presentation\n",
        "\n",
        "- **Collaboration:** Discuss your work openly within your team or with other teams. Sharing insights and learning from each other is encouraged.\n",
        "- **Presentation:** Present your methodology, results, and the techniques that helped the most. Document your journey and the steps you took to achieve your results\n",
        "\n"
      ],
      "metadata": {
        "id": "nipVcj4V_QDy"
      }
    },
    {
      "cell_type": "code",
      "source": [
        "import gdown\n",
        "from pathlib import Path\n",
        "\n",
        "import pandas as pd\n",
        "import numpy as np\n",
        "pd.set_option('display.max_rows', 200)\n",
        "pd.set_option('display.max_columns', 200)\n",
        "\n",
        "import matplotlib.pyplot as plt\n",
        "import seaborn as sns\n",
        "\n",
        "from sklearn.preprocessing import OrdinalEncoder\n",
        "from sklearn.preprocessing import MinMaxScaler\n",
        "from sklearn.impute import SimpleImputer\n",
        "from sklearn.ensemble import RandomForestRegressor\n",
        "from sklearn.model_selection import train_test_split\n",
        "from sklearn.metrics import mean_squared_error, r2_score, mean_absolute_error\n"
      ],
      "metadata": {
        "id": "ddCt_SZwAXG6"
      },
      "execution_count": 59,
      "outputs": []
    },
    {
      "cell_type": "code",
      "source": [
        "def download_from_gdrive(url, filename):\n",
        "    # Extract the file ID from the URL\n",
        "    file_id = url.split('/')[-2]\n",
        "    download_url = f\"https://drive.google.com/uc?id={file_id}\"\n",
        "\n",
        "    # Download the file\n",
        "    if Path(filename).exists():\n",
        "        print(f\"File '{filename}' already exists. Skipping download.\")\n",
        "    else:\n",
        "        gdown.download(download_url, filename, quiet=False)\n",
        "        print(f\"File downloaded as: {filename}\")\n",
        "\n",
        "train = 'https://drive.google.com/file/d/1guqSpDv1Q7ZZjSbXMYGbrTvGns0VCyU5/view?usp=drive_link'\n",
        "valid = 'https://drive.google.com/file/d/1j7x8xhMimKbvW62D-XeDfuRyj9ia636q/view?usp=drive_link'\n",
        "# Example usage\n",
        "\n",
        "download_from_gdrive(train, 'train.csv')\n",
        "download_from_gdrive(valid, 'valid.csv')\n",
        "\n",
        "df = pd.read_csv('train.csv')\n",
        "df_valid = pd.read_csv('valid.csv')"
      ],
      "metadata": {
        "id": "2jdlNVVI8s_d",
        "outputId": "ecf5ce4e-3bd5-47e6-f6dc-3333fa313e5e",
        "colab": {
          "base_uri": "https://localhost:8080/"
        }
      },
      "execution_count": 84,
      "outputs": [
        {
          "output_type": "stream",
          "name": "stdout",
          "text": [
            "File 'train.csv' already exists. Skipping download.\n",
            "File 'valid.csv' already exists. Skipping download.\n"
          ]
        },
        {
          "output_type": "stream",
          "name": "stderr",
          "text": [
            "<ipython-input-84-861d4f7287ed>:20: DtypeWarning: Columns (13,39,40,41) have mixed types. Specify dtype option on import or set low_memory=False.\n",
            "  df = pd.read_csv('train.csv')\n"
          ]
        }
      ]
    },
    {
      "cell_type": "code",
      "source": [
        "df"
      ],
      "metadata": {
        "id": "RhraUbbkdEml"
      },
      "execution_count": null,
      "outputs": []
    },
    {
      "cell_type": "markdown",
      "source": [
        "## Exploratory Data Analysis (EDA)"
      ],
      "metadata": {
        "id": "dIQ1BlV7wZBe"
      }
    },
    {
      "cell_type": "code",
      "source": [
        "#df.fiProductClassDesc.value_counts()"
      ],
      "metadata": {
        "id": "30KP0HEQbhrB"
      },
      "execution_count": 61,
      "outputs": []
    },
    {
      "cell_type": "code",
      "source": [
        "#df.info()"
      ],
      "metadata": {
        "id": "pfswzVUcRrUt"
      },
      "execution_count": null,
      "outputs": []
    },
    {
      "cell_type": "code",
      "source": [
        " #df.SalesID.nunique()"
      ],
      "metadata": {
        "id": "SVUG5kuEfcWT"
      },
      "execution_count": 63,
      "outputs": []
    },
    {
      "cell_type": "code",
      "source": [
        "# df.isnull().sum()"
      ],
      "metadata": {
        "id": "lEziG3fNwb-F"
      },
      "execution_count": 64,
      "outputs": []
    },
    {
      "cell_type": "code",
      "source": [
        "#df.describe()"
      ],
      "metadata": {
        "id": "vLqhFjn2R21j"
      },
      "execution_count": 65,
      "outputs": []
    },
    {
      "cell_type": "code",
      "source": [
        "#sns.histplot(data=df, x='SalePrice', bins=20)"
      ],
      "metadata": {
        "id": "TCdKm_ok94x5"
      },
      "execution_count": 66,
      "outputs": []
    },
    {
      "cell_type": "code",
      "source": [
        "# to see value_counts for all categorical columns, but some realy categorical columns has numerical type like ModelID\n",
        "categorical_cols = df.select_dtypes(exclude='number').columns\n",
        "for col in categorical_cols:\n",
        "  print(f\"Value counts for column '{col}':\")\n",
        "  print(df[col].value_counts())\n",
        "  print(f\"NaN values:{df[col].isnull().sum()}\")\n",
        "  print()"
      ],
      "metadata": {
        "id": "Zp2RHhayXZWC"
      },
      "execution_count": null,
      "outputs": []
    },
    {
      "cell_type": "markdown",
      "source": [
        "### 3. Data Preprocessing"
      ],
      "metadata": {
        "id": "PhCFYLEqQimv"
      }
    },
    {
      "cell_type": "code",
      "source": [
        "def Num_to_Object(X, col):\n",
        "    for col_ in col:\n",
        "        X[col] = X[col].astype('object')\n",
        "    return X\n",
        "\n",
        "\n",
        "df = Num_to_Object(df, col = ['datasource'])\n",
        "df_valid = Num_to_Object(df_valid, col = ['datasource'])\n"
      ],
      "metadata": {
        "id": "-HtK_91vYq-m"
      },
      "execution_count": 68,
      "outputs": []
    },
    {
      "cell_type": "code",
      "source": [
        "#df['Transmission'] = df['Transmission'].replace('AutoShift', 'Autoshift')\n",
        "def fix_mistakes(X, replacement_dict):\n",
        "\n",
        "    for col, replacements in replacement_dict.items():\n",
        "        X[col] = X[col].replace(replacements)\n",
        "    return X\n",
        "\n",
        "\n",
        "fix_mistakes(df, replacement_dict = {'Transmission': {'AutoShift': 'Autoshift'}})\n",
        "fix_mistakes(df_valid, replacement_dict = {'Transmission': {'AutoShift': 'Autoshift'}})"
      ],
      "metadata": {
        "id": "WSIdpODP2uYh"
      },
      "execution_count": null,
      "outputs": []
    },
    {
      "cell_type": "code",
      "source": [
        "def fix_data(X, date_col):\n",
        "    for col in date_col:\n",
        "        X[col] = pd.to_datetime(X[col])\n",
        "        X[col + '_Year'] = X[col].dt.year\n",
        "        X[col + '_Month'] = X[col].dt.month\n",
        "        X = X.drop(col, axis=1)\n",
        "    return X\n",
        "\n",
        "\n",
        "df = fix_data(df, date_col = ['saledate'])\n",
        "df_valid = fix_data(df_valid, date_col = ['saledate'])"
      ],
      "metadata": {
        "id": "Cnk0uWhQ3bwp"
      },
      "execution_count": 70,
      "outputs": []
    },
    {
      "cell_type": "code",
      "source": [
        "def first_word_name(X, col):\n",
        "    for col_ in col:\n",
        "        X[col_+'_first_word'] = X[col_].apply(lambda x: x.split()[0] if isinstance(x, str) else x)\n",
        "    return X\n",
        "\n",
        "\n",
        "first_word_name(df, col = ['fiProductClassDesc'])\n",
        "first_word_name(df_valid, col = ['fiProductClassDesc'])"
      ],
      "metadata": {
        "id": "7gIXEAiS4lg4"
      },
      "execution_count": null,
      "outputs": []
    },
    {
      "cell_type": "code",
      "source": [
        "def ord_encod_nan(X, col, categories):\n",
        "    encoder = OrdinalEncoder(categories=[categories], handle_unknown='use_encoded_value', unknown_value= -1)\n",
        "    X[col + '_3'] = encoder.fit_transform(X[[col]])\n",
        "    X[col + '_3'].replace(-1, np.nan, inplace=True)\n",
        "    X[col + '_3'] = pd.to_numeric(X[col + '_3'], errors='coerce')\n",
        "\n",
        "    return X\n",
        "\n",
        "\n",
        "df = ord_encod_nan(df, col = 'UsageBand', categories = ['Low', 'Medium', 'High'])\n",
        "df_valid = ord_encod_nan(df_valid, col = 'UsageBand', categories = ['Low', 'Medium', 'High'])\n",
        "\n",
        "df = ord_encod_nan(df, col = 'ProductSize', categories = ['Mini', 'Compact', 'Small', 'Medium', 'Large / Medium', 'Large', 'High'])\n",
        "df_valid = ord_encod_nan(df_valid, col = 'ProductSize', categories = ['Mini', 'Compact', 'Small', 'Medium', 'Large / Medium', 'Large', 'High'])"
      ],
      "metadata": {
        "id": "OXUfrZislrnv"
      },
      "execution_count": 72,
      "outputs": []
    },
    {
      "cell_type": "code",
      "source": [
        "def replace_dict(X, col, repl_dict):\n",
        "    new_name = col + '_3'\n",
        "\n",
        "    X[new_name] = X[col]\n",
        "    for old, new in repl_dict.items():\n",
        "        X[new_name] = X[new_name].str.replace(old, new, regex=False)\n",
        "    X[new_name].replace('None or Unspecified', -1)\n",
        "    X[new_name].replace(-1, np.nan, inplace=True)\n",
        "    X[new_name] = pd.to_numeric(X[new_name], errors='coerce')\n",
        "\n",
        "    return X\n",
        "\n",
        "df = replace_dict(df, col = 'Undercarriage_Pad_Width', repl_dict= {' inch': ''})\n",
        "df_valid = replace_dict(df_valid, col= 'Undercarriage_Pad_Width', repl_dict = {' inch': ''})\n",
        "\n",
        "df = replace_dict(df, col = 'Stick_Length', repl_dict= {\"' \": '.', '\"': ''})\n",
        "df_valid = replace_dict(df_valid, col= 'Stick_Length', repl_dict = {\"' \": '.', '\"': ''})"
      ],
      "metadata": {
        "id": "unmZNUg5AE6S"
      },
      "execution_count": 73,
      "outputs": []
    },
    {
      "cell_type": "code",
      "source": [
        "#df[df['YearMade'] == 1000].head(20) # i have not idias what to do with year 1000"
      ],
      "metadata": {
        "id": "oEEe-qSaHyHH"
      },
      "execution_count": 74,
      "outputs": []
    },
    {
      "cell_type": "markdown",
      "source": [
        "## Mean / Target encoding    (depend on test / train split)"
      ],
      "metadata": {
        "id": "zmFxzf7MFOTg"
      }
    },
    {
      "cell_type": "code",
      "source": [
        "def make_target_mean_dict(X, y):\n",
        "    X1 = X.copy()\n",
        "\n",
        "    y1 = pd.DataFrame(y)\n",
        "    X1 = pd.concat([X1, y1], axis=1)\n",
        "    X1 = X1.rename(columns={0: 'SalePrice'})\n",
        "\n",
        "    target_mean_dict = {}\n",
        "    target_nan_mean_dict = {}\n",
        "\n",
        "    for col in X1.select_dtypes(exclude='number').columns:\n",
        "        target_mean_dict[col] = X1.groupby(col)['SalePrice'].mean().to_dict()\n",
        "        target_nan_mean_dict[col] = X1[X1[col].isna()]['SalePrice'].mean()\n",
        "    X1 = X1.drop(columns=['SalePrice'])\n",
        "\n",
        "    return target_mean_dict, target_nan_mean_dict\n",
        "\n",
        "\n",
        "def target_encode(X, target_mean_dict, target_nan_mean_dict):\n",
        "    for col in X.select_dtypes(exclude='number').columns:\n",
        "        X[col + '_2'] = X[col].map(target_mean_dict[col]).fillna(target_nan_mean_dict[col])\n",
        "        X[col + '_2'] = X[col + '_2'].astype(float)\n",
        "    return X\n",
        "\n",
        "#target_mean_dict, target_nan_mean_dict = make_target_mean_dict(df, target_col = 'SalePrice')\n",
        "#df = target_encode(df, target_mean_dict, target_nan_mean_dict)\n",
        "#df_valid = target_encode(df_valid, target_mean_dict, target_nan_mean_dict)"
      ],
      "metadata": {
        "id": "yEsroVcqEqio"
      },
      "execution_count": 75,
      "outputs": []
    },
    {
      "cell_type": "markdown",
      "source": [
        "# Select data for testing model"
      ],
      "metadata": {
        "id": "GqOepCDgRE4N"
      }
    },
    {
      "cell_type": "code",
      "source": [
        "df2 = df.sample(1500, random_state=42)\n",
        "\n",
        "y = df2['SalePrice']\n",
        "X = df2.drop(columns=['SalePrice', 'SalesID', 'MachineID', 'ModelID'])\n",
        "\n",
        "X_train, X_test, y_train, y_test = train_test_split(X, y, test_size=0.2, random_state=42)\n",
        "\n",
        "target_mean_dict, target_nan_mean_dict = make_target_mean_dict(X_train, y_train)\n",
        "X_train = target_encode(X_train, target_mean_dict, target_nan_mean_dict)\n",
        "X_test = target_encode(X_test, target_mean_dict, target_nan_mean_dict)\n",
        "\n",
        "X_train = X_train.select_dtypes('number')\n",
        "X_test = X_test.select_dtypes('number')\n",
        "\n",
        "X_train = X_train.fillna(X_train.mean())\n",
        "X_test = X_test.fillna(X_train.mean())\n"
      ],
      "metadata": {
        "id": "A2rncyq9T5qA"
      },
      "execution_count": 76,
      "outputs": []
    },
    {
      "cell_type": "markdown",
      "source": [
        "#train_test_split"
      ],
      "metadata": {
        "id": "73Gx2EJ3IrDi"
      }
    },
    {
      "cell_type": "code",
      "source": [
        "# scaler = MinMaxScaler()  -   nothing to chenge\n",
        "# X_train = pd.DataFrame(scaler.fit_transform(X_train), columns=X_train.columns, index=X_train.index)\n",
        "# X_test = pd.DataFrame(scaler.transform(X_test), columns=X_test.columns, index=X_test.index)\n",
        "# X_valid = pd.DataFrame(scaler.transform(X_valid), columns=X_valid.columns, index=X_valid.index)\n",
        "\n",
        "# feature_names = X_train.columns  is is aufully compicated\n",
        "# imputer = SimpleImputer(strategy='mean')\n",
        "# X_train = imputer.fit_transform(X_train)\n",
        "# X_test = imputer.transform(X_test)\n",
        "# X_valid = imputer.transform(X_valid)\n",
        "# X_train = pd.DataFrame(X_train, columns=feature_names)\n",
        "# X_test = pd.DataFrame(X_test, columns=feature_names)\n",
        "# X_valid = pd.DataFrame(X_valid, columns=feature_names)\n",
        "\n",
        "# import seaborn as sns\n",
        "# import matplotlib.pyplot as plt\n",
        "\n",
        "# plt.figure(figsize=(20, 20))\n",
        "# sns.heatmap(X.corr(), vmin=-1, fmt=\".1f\", vmax=1, annot=True, cmap='BrBG')\n",
        "# plt.show()"
      ],
      "metadata": {
        "id": "afhKgZflUIDf"
      },
      "execution_count": 77,
      "outputs": []
    },
    {
      "cell_type": "code",
      "source": [
        "%%time\n",
        "model = RandomForestRegressor(n_jobs=-1,\n",
        "                              n_estimators = 700,\n",
        "                              #max_depth = 10,\n",
        "                              min_impurity_decrease = 10,\n",
        "                              random_state = 42,\n",
        "                              max_features = 'sqrt',\n",
        "                              #max_samples=0.75\n",
        "                              )\n",
        "model.fit(X_train, y_train)\n",
        "\n",
        "y_train_pred = model.predict(X_train)\n",
        "y_test_pred = model.predict(X_test)\n",
        "\n",
        "print(f'Train RMSE:', np.sqrt(mean_squared_error(y_train, y_train_pred)))\n",
        "print(f'Test RMSE:', np.sqrt(mean_squared_error(y_test, y_test_pred)))\n",
        "print(f'R²:' , r2_score(y_test, y_test_pred))\n",
        "print(f'Train MAE:', mean_absolute_error(y_train, y_train_pred))\n",
        "print(f'Test MAE:', mean_absolute_error(y_test, y_test_pred))\n"
      ],
      "metadata": {
        "id": "XCqjoGIAMQRp",
        "outputId": "040c70bb-2c39-4928-99ad-2b42d03941ac",
        "colab": {
          "base_uri": "https://localhost:8080/"
        }
      },
      "execution_count": 79,
      "outputs": [
        {
          "output_type": "stream",
          "name": "stdout",
          "text": [
            "Train RMSE: 3937.715780429532\n",
            "Test RMSE: 10517.430243008761\n",
            "R²: 0.7598181196387993\n",
            "Train MAE: 2725.398941272429\n",
            "Test MAE: 7195.502801105088\n",
            "CPU times: user 3.84 s, sys: 202 ms, total: 4.04 s\n",
            "Wall time: 2.83 s\n"
          ]
        }
      ]
    },
    {
      "cell_type": "code",
      "source": [
        "### Feature importance\n",
        "pd.Series(\n",
        "    model.feature_importances_,\n",
        "    index=model.feature_names_in_\n",
        ").sort_values(ascending=False)"
      ],
      "metadata": {
        "id": "jcMpXIs0PO_m"
      },
      "execution_count": null,
      "outputs": []
    },
    {
      "cell_type": "markdown",
      "source": [
        "# this for Validation#"
      ],
      "metadata": {
        "id": "PgFGEJyeTLLo"
      }
    },
    {
      "cell_type": "code",
      "source": [
        "# df2 = df.select_dtypes('number')\n",
        "# X_valid2 = df_valid.select_dtypes('number')\n",
        "\n",
        "# y = df2['SalePrice']\n",
        "# X = df2.drop(columns=['SalePrice', 'MachineID', 'ModelID', 'SalesID'])\n",
        "# X_valid = X_valid2.drop(columns=['MachineID', 'ModelID', 'SalesID'])\n",
        "\n",
        "\n",
        "# target_mean_dict, target_nan_mean_dict = make_target_mean_dict(X, y)\n",
        "# X = target_encode(X, target_mean_dict, target_nan_mean_dict)\n",
        "# X_valid = target_encode(X_valid, target_mean_dict, target_nan_mean_dict)\n",
        "\n",
        "# X = X.select_dtypes('number')\n",
        "# X_valid = X_valid.select_dtypes('number')\n",
        "\n",
        "# X = X.fillna(X.mean())\n",
        "# X_valid = X_valid.fillna(X.mean())\n"
      ],
      "metadata": {
        "id": "sKxLR3BATK6Q"
      },
      "execution_count": 81,
      "outputs": []
    },
    {
      "cell_type": "code",
      "source": [
        "# %%time\n",
        "# model = RandomForestRegressor(n_jobs=-1,\n",
        "#                               n_estimators = 700,\n",
        "#                               #max_depth = 10,\n",
        "#                               min_impurity_decrease = 10,\n",
        "#                               random_state = 42,\n",
        "#                               max_features = 'sqrt',\n",
        "#                               #max_samples=0.75\n",
        "#                               )\n",
        "# model.fit(X, y)\n",
        "\n",
        "# y_valid_pred = model.predict(X_valid)"
      ],
      "metadata": {
        "id": "uTzB3ECpTy9I"
      },
      "execution_count": 82,
      "outputs": []
    },
    {
      "cell_type": "code",
      "source": [
        "# Create a submission file\n",
        "# submission = pd.DataFrame({'SalesID': X_valid['SalesID'], 'SalePrice': y_valid_pred})\n",
        "# submission.to_csv('final_submission.csv', index=False)"
      ],
      "metadata": {
        "id": "P5NywMhp16nq"
      },
      "execution_count": 83,
      "outputs": []
    }
  ]
}