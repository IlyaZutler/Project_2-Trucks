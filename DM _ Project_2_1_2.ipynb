{
  "nbformat": 4,
  "nbformat_minor": 0,
  "metadata": {
    "colab": {
      "provenance": [],
      "include_colab_link": true
    },
    "kernelspec": {
      "name": "python3",
      "display_name": "Python 3"
    },
    "language_info": {
      "name": "python"
    }
  },
  "cells": [
    {
      "cell_type": "markdown",
      "metadata": {
        "id": "view-in-github",
        "colab_type": "text"
      },
      "source": [
        "<a href=\"https://colab.research.google.com/github/IlyaZutler/Project_2-Trucks/blob/main/DM%20_%20Project_2_1_2.ipynb\" target=\"_parent\"><img src=\"https://colab.research.google.com/assets/colab-badge.svg\" alt=\"Open In Colab\"/></a>"
      ]
    },
    {
      "cell_type": "markdown",
      "source": [
        "# Dynamic mitochondria Project - Heavy Machinery Auction Price Estimator\n",
        "\n",
        "> https://www.kaggle.com/t/9baafb8850d74e4499c7b1ba97d6f115\n",
        "\n",
        "### Timeline\n",
        "- **Start Date:** [Start Date]\n",
        "- **End Date:** 14/07/2024 (11 days to go)\n",
        "\n",
        "### 2. Exploratory Data Analysis (EDA)\n",
        "\n",
        "Conduct EDA to understand the dataset and identify any data quality issues. Look for missing values, outliers, and relationships between features and the target variable.\n",
        "\n",
        "### 3. Data Preprocessing\n",
        "\n",
        "- Handle missing values appropriately.\n",
        "- Encode categorical variables.\n",
        "- Normalize or standardize numerical features if necessary.\n",
        "\n",
        "### 6. Model Improvement\n",
        "\n",
        "- Handle missing values and categorical variables more effectively.\n",
        "- Use feature importances to identify key features.\n",
        "- Perform feature engineering to create new informative features.\n",
        "- Tune hyperparameters using grid search or other techniques.\n",
        "- Monitor for overfitting by comparing training and testing performance.\n",
        "\n",
        "### 7. Final Submission\n",
        "\n",
        "Generate predictions for the validation set:\n",
        "\n",
        "```python\n",
        "valid = pd.read_csv('valid.csv')\n",
        "X_valid = valid.drop(columns=['SalesID'])\n",
        "y_valid_pred = model.predict(X_valid)\n",
        "\n",
        "# Create a submission file\n",
        "submission = pd.DataFrame({'SalesID': valid['SalesID'], 'SalePrice': y_valid_pred})\n",
        "submission.to_csv('final_submission.csv', index=False)\n",
        "```\n",
        "\n",
        "## Practical Data Science Guidelines\n",
        "\n",
        "- **Efficient Workflows:** Use a random subset of 20,000 rows for initial experiments. Use the full dataset for the final submission.\n",
        "- **Iterative Approach:** Start with a basic model and iteratively improve it by trying small ideas.\n",
        "- **Feature Engineering:** Transform and combine existing features creatively.\n",
        "- **Documentation:** Keep track of your experiments and results. Document what works and what doesn't.\n",
        "\n",
        "## Collaboration and Presentation\n",
        "\n",
        "- **Collaboration:** Discuss your work openly within your team or with other teams. Sharing insights and learning from each other is encouraged.\n",
        "- **Presentation:** Present your methodology, results, and the techniques that helped the most. Document your journey and the steps you took to achieve your results\n",
        "\n"
      ],
      "metadata": {
        "id": "nipVcj4V_QDy"
      }
    },
    {
      "cell_type": "code",
      "source": [
        "import gdown\n",
        "from pathlib import Path\n",
        "\n",
        "import pandas as pd\n",
        "import numpy as np\n",
        "pd.set_option('display.max_rows', 200)\n",
        "pd.set_option('display.max_columns', 200)\n",
        "\n",
        "import matplotlib.pyplot as plt\n",
        "import seaborn as sns\n",
        "\n",
        "from sklearn.preprocessing import OrdinalEncoder\n",
        "from sklearn.preprocessing import MinMaxScaler\n",
        "from sklearn.ensemble import RandomForestRegressor\n",
        "from sklearn.model_selection import train_test_split\n",
        "from sklearn.metrics import mean_squared_error, r2_score, mean_absolute_error\n"
      ],
      "metadata": {
        "id": "ddCt_SZwAXG6"
      },
      "execution_count": null,
      "outputs": []
    },
    {
      "cell_type": "code",
      "source": [
        "def download_from_gdrive(url, filename):\n",
        "    # Extract the file ID from the URL\n",
        "    file_id = url.split('/')[-2]\n",
        "    download_url = f\"https://drive.google.com/uc?id={file_id}\"\n",
        "\n",
        "    # Download the file\n",
        "    if Path(filename).exists():\n",
        "        print(f\"File '{filename}' already exists. Skipping download.\")\n",
        "    else:\n",
        "        gdown.download(download_url, filename, quiet=False)\n",
        "        print(f\"File downloaded as: {filename}\")\n",
        "\n",
        "train = 'https://drive.google.com/file/d/1guqSpDv1Q7ZZjSbXMYGbrTvGns0VCyU5/view?usp=drive_link'\n",
        "valid = 'https://drive.google.com/file/d/1j7x8xhMimKbvW62D-XeDfuRyj9ia636q/view?usp=drive_link'\n",
        "# Example usage\n",
        "\n",
        "download_from_gdrive(train, 'train.csv')\n",
        "download_from_gdrive(valid, 'valid.csv')\n",
        "\n",
        "df = pd.read_csv('train.csv')\n",
        "df_valid = pd.read_csv('valid.csv')"
      ],
      "metadata": {
        "id": "2jdlNVVI8s_d"
      },
      "execution_count": null,
      "outputs": []
    },
    {
      "cell_type": "code",
      "source": [
        "df.head(1)"
      ],
      "metadata": {
        "id": "c8dxke25Cpon",
        "outputId": "1554d74e-f460-47b7-ad11-a123ebf1041f",
        "colab": {
          "base_uri": "https://localhost:8080/",
          "height": 118
        }
      },
      "execution_count": null,
      "outputs": [
        {
          "output_type": "execute_result",
          "data": {
            "text/plain": [
              "   SalesID  SalePrice  MachineID  ModelID  datasource  auctioneerID  YearMade  \\\n",
              "0  1139246      66000     999089     3157         121           3.0      2004   \n",
              "\n",
              "   MachineHoursCurrentMeter UsageBand         saledate fiModelDesc  \\\n",
              "0                      68.0       Low  11/16/2006 0:00        521D   \n",
              "\n",
              "  fiBaseModel fiSecondaryDesc fiModelSeries fiModelDescriptor ProductSize  \\\n",
              "0         521               D           NaN               NaN         NaN   \n",
              "\n",
              "                         fiProductClassDesc    state ProductGroup  \\\n",
              "0  Wheel Loader - 110.0 to 120.0 Horsepower  Alabama           WL   \n",
              "\n",
              "  ProductGroupDesc Drive_System   Enclosure                Forks Pad_Type  \\\n",
              "0     Wheel Loader          NaN  EROPS w AC  None or Unspecified      NaN   \n",
              "\n",
              "          Ride_Control Stick Transmission Turbocharged Blade_Extension  \\\n",
              "0  None or Unspecified   NaN          NaN          NaN             NaN   \n",
              "\n",
              "  Blade_Width Enclosure_Type Engine_Horsepower Hydraulics Pushblock Ripper  \\\n",
              "0         NaN            NaN               NaN    2 Valve       NaN    NaN   \n",
              "\n",
              "  Scarifier Tip_Control            Tire_Size              Coupler  \\\n",
              "0       NaN         NaN  None or Unspecified  None or Unspecified   \n",
              "\n",
              "  Coupler_System Grouser_Tracks Hydraulics_Flow Track_Type  \\\n",
              "0            NaN            NaN             NaN        NaN   \n",
              "\n",
              "  Undercarriage_Pad_Width Stick_Length Thumb Pattern_Changer Grouser_Type  \\\n",
              "0                     NaN          NaN   NaN             NaN          NaN   \n",
              "\n",
              "  Backhoe_Mounting Blade_Type Travel_Controls Differential_Type  \\\n",
              "0              NaN        NaN             NaN          Standard   \n",
              "\n",
              "  Steering_Controls  \n",
              "0      Conventional  "
            ],
            "text/html": [
              "\n",
              "  <div id=\"df-68ca6038-2af4-4174-b319-0a681a556ec7\" class=\"colab-df-container\">\n",
              "    <div>\n",
              "<style scoped>\n",
              "    .dataframe tbody tr th:only-of-type {\n",
              "        vertical-align: middle;\n",
              "    }\n",
              "\n",
              "    .dataframe tbody tr th {\n",
              "        vertical-align: top;\n",
              "    }\n",
              "\n",
              "    .dataframe thead th {\n",
              "        text-align: right;\n",
              "    }\n",
              "</style>\n",
              "<table border=\"1\" class=\"dataframe\">\n",
              "  <thead>\n",
              "    <tr style=\"text-align: right;\">\n",
              "      <th></th>\n",
              "      <th>SalesID</th>\n",
              "      <th>SalePrice</th>\n",
              "      <th>MachineID</th>\n",
              "      <th>ModelID</th>\n",
              "      <th>datasource</th>\n",
              "      <th>auctioneerID</th>\n",
              "      <th>YearMade</th>\n",
              "      <th>MachineHoursCurrentMeter</th>\n",
              "      <th>UsageBand</th>\n",
              "      <th>saledate</th>\n",
              "      <th>fiModelDesc</th>\n",
              "      <th>fiBaseModel</th>\n",
              "      <th>fiSecondaryDesc</th>\n",
              "      <th>fiModelSeries</th>\n",
              "      <th>fiModelDescriptor</th>\n",
              "      <th>ProductSize</th>\n",
              "      <th>fiProductClassDesc</th>\n",
              "      <th>state</th>\n",
              "      <th>ProductGroup</th>\n",
              "      <th>ProductGroupDesc</th>\n",
              "      <th>Drive_System</th>\n",
              "      <th>Enclosure</th>\n",
              "      <th>Forks</th>\n",
              "      <th>Pad_Type</th>\n",
              "      <th>Ride_Control</th>\n",
              "      <th>Stick</th>\n",
              "      <th>Transmission</th>\n",
              "      <th>Turbocharged</th>\n",
              "      <th>Blade_Extension</th>\n",
              "      <th>Blade_Width</th>\n",
              "      <th>Enclosure_Type</th>\n",
              "      <th>Engine_Horsepower</th>\n",
              "      <th>Hydraulics</th>\n",
              "      <th>Pushblock</th>\n",
              "      <th>Ripper</th>\n",
              "      <th>Scarifier</th>\n",
              "      <th>Tip_Control</th>\n",
              "      <th>Tire_Size</th>\n",
              "      <th>Coupler</th>\n",
              "      <th>Coupler_System</th>\n",
              "      <th>Grouser_Tracks</th>\n",
              "      <th>Hydraulics_Flow</th>\n",
              "      <th>Track_Type</th>\n",
              "      <th>Undercarriage_Pad_Width</th>\n",
              "      <th>Stick_Length</th>\n",
              "      <th>Thumb</th>\n",
              "      <th>Pattern_Changer</th>\n",
              "      <th>Grouser_Type</th>\n",
              "      <th>Backhoe_Mounting</th>\n",
              "      <th>Blade_Type</th>\n",
              "      <th>Travel_Controls</th>\n",
              "      <th>Differential_Type</th>\n",
              "      <th>Steering_Controls</th>\n",
              "    </tr>\n",
              "  </thead>\n",
              "  <tbody>\n",
              "    <tr>\n",
              "      <th>0</th>\n",
              "      <td>1139246</td>\n",
              "      <td>66000</td>\n",
              "      <td>999089</td>\n",
              "      <td>3157</td>\n",
              "      <td>121</td>\n",
              "      <td>3.0</td>\n",
              "      <td>2004</td>\n",
              "      <td>68.0</td>\n",
              "      <td>Low</td>\n",
              "      <td>11/16/2006 0:00</td>\n",
              "      <td>521D</td>\n",
              "      <td>521</td>\n",
              "      <td>D</td>\n",
              "      <td>NaN</td>\n",
              "      <td>NaN</td>\n",
              "      <td>NaN</td>\n",
              "      <td>Wheel Loader - 110.0 to 120.0 Horsepower</td>\n",
              "      <td>Alabama</td>\n",
              "      <td>WL</td>\n",
              "      <td>Wheel Loader</td>\n",
              "      <td>NaN</td>\n",
              "      <td>EROPS w AC</td>\n",
              "      <td>None or Unspecified</td>\n",
              "      <td>NaN</td>\n",
              "      <td>None or Unspecified</td>\n",
              "      <td>NaN</td>\n",
              "      <td>NaN</td>\n",
              "      <td>NaN</td>\n",
              "      <td>NaN</td>\n",
              "      <td>NaN</td>\n",
              "      <td>NaN</td>\n",
              "      <td>NaN</td>\n",
              "      <td>2 Valve</td>\n",
              "      <td>NaN</td>\n",
              "      <td>NaN</td>\n",
              "      <td>NaN</td>\n",
              "      <td>NaN</td>\n",
              "      <td>None or Unspecified</td>\n",
              "      <td>None or Unspecified</td>\n",
              "      <td>NaN</td>\n",
              "      <td>NaN</td>\n",
              "      <td>NaN</td>\n",
              "      <td>NaN</td>\n",
              "      <td>NaN</td>\n",
              "      <td>NaN</td>\n",
              "      <td>NaN</td>\n",
              "      <td>NaN</td>\n",
              "      <td>NaN</td>\n",
              "      <td>NaN</td>\n",
              "      <td>NaN</td>\n",
              "      <td>NaN</td>\n",
              "      <td>Standard</td>\n",
              "      <td>Conventional</td>\n",
              "    </tr>\n",
              "  </tbody>\n",
              "</table>\n",
              "</div>\n",
              "    <div class=\"colab-df-buttons\">\n",
              "\n",
              "  <div class=\"colab-df-container\">\n",
              "    <button class=\"colab-df-convert\" onclick=\"convertToInteractive('df-68ca6038-2af4-4174-b319-0a681a556ec7')\"\n",
              "            title=\"Convert this dataframe to an interactive table.\"\n",
              "            style=\"display:none;\">\n",
              "\n",
              "  <svg xmlns=\"http://www.w3.org/2000/svg\" height=\"24px\" viewBox=\"0 -960 960 960\">\n",
              "    <path d=\"M120-120v-720h720v720H120Zm60-500h600v-160H180v160Zm220 220h160v-160H400v160Zm0 220h160v-160H400v160ZM180-400h160v-160H180v160Zm440 0h160v-160H620v160ZM180-180h160v-160H180v160Zm440 0h160v-160H620v160Z\"/>\n",
              "  </svg>\n",
              "    </button>\n",
              "\n",
              "  <style>\n",
              "    .colab-df-container {\n",
              "      display:flex;\n",
              "      gap: 12px;\n",
              "    }\n",
              "\n",
              "    .colab-df-convert {\n",
              "      background-color: #E8F0FE;\n",
              "      border: none;\n",
              "      border-radius: 50%;\n",
              "      cursor: pointer;\n",
              "      display: none;\n",
              "      fill: #1967D2;\n",
              "      height: 32px;\n",
              "      padding: 0 0 0 0;\n",
              "      width: 32px;\n",
              "    }\n",
              "\n",
              "    .colab-df-convert:hover {\n",
              "      background-color: #E2EBFA;\n",
              "      box-shadow: 0px 1px 2px rgba(60, 64, 67, 0.3), 0px 1px 3px 1px rgba(60, 64, 67, 0.15);\n",
              "      fill: #174EA6;\n",
              "    }\n",
              "\n",
              "    .colab-df-buttons div {\n",
              "      margin-bottom: 4px;\n",
              "    }\n",
              "\n",
              "    [theme=dark] .colab-df-convert {\n",
              "      background-color: #3B4455;\n",
              "      fill: #D2E3FC;\n",
              "    }\n",
              "\n",
              "    [theme=dark] .colab-df-convert:hover {\n",
              "      background-color: #434B5C;\n",
              "      box-shadow: 0px 1px 3px 1px rgba(0, 0, 0, 0.15);\n",
              "      filter: drop-shadow(0px 1px 2px rgba(0, 0, 0, 0.3));\n",
              "      fill: #FFFFFF;\n",
              "    }\n",
              "  </style>\n",
              "\n",
              "    <script>\n",
              "      const buttonEl =\n",
              "        document.querySelector('#df-68ca6038-2af4-4174-b319-0a681a556ec7 button.colab-df-convert');\n",
              "      buttonEl.style.display =\n",
              "        google.colab.kernel.accessAllowed ? 'block' : 'none';\n",
              "\n",
              "      async function convertToInteractive(key) {\n",
              "        const element = document.querySelector('#df-68ca6038-2af4-4174-b319-0a681a556ec7');\n",
              "        const dataTable =\n",
              "          await google.colab.kernel.invokeFunction('convertToInteractive',\n",
              "                                                    [key], {});\n",
              "        if (!dataTable) return;\n",
              "\n",
              "        const docLinkHtml = 'Like what you see? Visit the ' +\n",
              "          '<a target=\"_blank\" href=https://colab.research.google.com/notebooks/data_table.ipynb>data table notebook</a>'\n",
              "          + ' to learn more about interactive tables.';\n",
              "        element.innerHTML = '';\n",
              "        dataTable['output_type'] = 'display_data';\n",
              "        await google.colab.output.renderOutput(dataTable, element);\n",
              "        const docLink = document.createElement('div');\n",
              "        docLink.innerHTML = docLinkHtml;\n",
              "        element.appendChild(docLink);\n",
              "      }\n",
              "    </script>\n",
              "  </div>\n",
              "\n",
              "\n",
              "    </div>\n",
              "  </div>\n"
            ],
            "application/vnd.google.colaboratory.intrinsic+json": {
              "type": "dataframe",
              "variable_name": "df"
            }
          },
          "metadata": {},
          "execution_count": 44
        }
      ]
    },
    {
      "cell_type": "code",
      "source": [
        "df_valid.head(1)"
      ],
      "metadata": {
        "id": "3DO--0yKCra3",
        "outputId": "1707a719-f0c0-412b-a04b-e79a9f053255",
        "colab": {
          "base_uri": "https://localhost:8080/",
          "height": 135
        }
      },
      "execution_count": null,
      "outputs": [
        {
          "output_type": "execute_result",
          "data": {
            "text/plain": [
              "   SalesID  MachineID  ModelID  datasource  auctioneerID  YearMade  \\\n",
              "0  1222837     902859     1376         121             3      1000   \n",
              "\n",
              "   MachineHoursCurrentMeter UsageBand       saledate fiModelDesc fiBaseModel  \\\n",
              "0                       0.0       NaN  1/5/2012 0:00        375L         375   \n",
              "\n",
              "  fiSecondaryDesc fiModelSeries fiModelDescriptor     ProductSize  \\\n",
              "0             NaN           NaN                 L  Large / Medium   \n",
              "\n",
              "                                  fiProductClassDesc     state ProductGroup  \\\n",
              "0  Hydraulic Excavator, Track - 66.0 to 90.0 Metr...  Kentucky          TEX   \n",
              "\n",
              "   ProductGroupDesc Drive_System Enclosure Forks Pad_Type Ride_Control Stick  \\\n",
              "0  Track Excavators          NaN     EROPS   NaN      NaN          NaN   NaN   \n",
              "\n",
              "  Transmission Turbocharged Blade_Extension Blade_Width Enclosure_Type  \\\n",
              "0          NaN          NaN             NaN         NaN            NaN   \n",
              "\n",
              "  Engine_Horsepower Hydraulics Pushblock Ripper Scarifier Tip_Control  \\\n",
              "0               NaN   Standard       NaN    NaN       NaN         NaN   \n",
              "\n",
              "  Tire_Size              Coupler Coupler_System Grouser_Tracks  \\\n",
              "0       NaN  None or Unspecified            NaN            NaN   \n",
              "\n",
              "  Hydraulics_Flow Track_Type Undercarriage_Pad_Width         Stick_Length  \\\n",
              "0             NaN      Steel     None or Unspecified  None or Unspecified   \n",
              "\n",
              "                 Thumb      Pattern_Changer Grouser_Type Backhoe_Mounting  \\\n",
              "0  None or Unspecified  None or Unspecified       Double              NaN   \n",
              "\n",
              "  Blade_Type Travel_Controls Differential_Type Steering_Controls  \n",
              "0        NaN             NaN               NaN               NaN  "
            ],
            "text/html": [
              "\n",
              "  <div id=\"df-5c7f714e-ef9d-48cb-99f6-e19c44eda7a8\" class=\"colab-df-container\">\n",
              "    <div>\n",
              "<style scoped>\n",
              "    .dataframe tbody tr th:only-of-type {\n",
              "        vertical-align: middle;\n",
              "    }\n",
              "\n",
              "    .dataframe tbody tr th {\n",
              "        vertical-align: top;\n",
              "    }\n",
              "\n",
              "    .dataframe thead th {\n",
              "        text-align: right;\n",
              "    }\n",
              "</style>\n",
              "<table border=\"1\" class=\"dataframe\">\n",
              "  <thead>\n",
              "    <tr style=\"text-align: right;\">\n",
              "      <th></th>\n",
              "      <th>SalesID</th>\n",
              "      <th>MachineID</th>\n",
              "      <th>ModelID</th>\n",
              "      <th>datasource</th>\n",
              "      <th>auctioneerID</th>\n",
              "      <th>YearMade</th>\n",
              "      <th>MachineHoursCurrentMeter</th>\n",
              "      <th>UsageBand</th>\n",
              "      <th>saledate</th>\n",
              "      <th>fiModelDesc</th>\n",
              "      <th>fiBaseModel</th>\n",
              "      <th>fiSecondaryDesc</th>\n",
              "      <th>fiModelSeries</th>\n",
              "      <th>fiModelDescriptor</th>\n",
              "      <th>ProductSize</th>\n",
              "      <th>fiProductClassDesc</th>\n",
              "      <th>state</th>\n",
              "      <th>ProductGroup</th>\n",
              "      <th>ProductGroupDesc</th>\n",
              "      <th>Drive_System</th>\n",
              "      <th>Enclosure</th>\n",
              "      <th>Forks</th>\n",
              "      <th>Pad_Type</th>\n",
              "      <th>Ride_Control</th>\n",
              "      <th>Stick</th>\n",
              "      <th>Transmission</th>\n",
              "      <th>Turbocharged</th>\n",
              "      <th>Blade_Extension</th>\n",
              "      <th>Blade_Width</th>\n",
              "      <th>Enclosure_Type</th>\n",
              "      <th>Engine_Horsepower</th>\n",
              "      <th>Hydraulics</th>\n",
              "      <th>Pushblock</th>\n",
              "      <th>Ripper</th>\n",
              "      <th>Scarifier</th>\n",
              "      <th>Tip_Control</th>\n",
              "      <th>Tire_Size</th>\n",
              "      <th>Coupler</th>\n",
              "      <th>Coupler_System</th>\n",
              "      <th>Grouser_Tracks</th>\n",
              "      <th>Hydraulics_Flow</th>\n",
              "      <th>Track_Type</th>\n",
              "      <th>Undercarriage_Pad_Width</th>\n",
              "      <th>Stick_Length</th>\n",
              "      <th>Thumb</th>\n",
              "      <th>Pattern_Changer</th>\n",
              "      <th>Grouser_Type</th>\n",
              "      <th>Backhoe_Mounting</th>\n",
              "      <th>Blade_Type</th>\n",
              "      <th>Travel_Controls</th>\n",
              "      <th>Differential_Type</th>\n",
              "      <th>Steering_Controls</th>\n",
              "    </tr>\n",
              "  </thead>\n",
              "  <tbody>\n",
              "    <tr>\n",
              "      <th>0</th>\n",
              "      <td>1222837</td>\n",
              "      <td>902859</td>\n",
              "      <td>1376</td>\n",
              "      <td>121</td>\n",
              "      <td>3</td>\n",
              "      <td>1000</td>\n",
              "      <td>0.0</td>\n",
              "      <td>NaN</td>\n",
              "      <td>1/5/2012 0:00</td>\n",
              "      <td>375L</td>\n",
              "      <td>375</td>\n",
              "      <td>NaN</td>\n",
              "      <td>NaN</td>\n",
              "      <td>L</td>\n",
              "      <td>Large / Medium</td>\n",
              "      <td>Hydraulic Excavator, Track - 66.0 to 90.0 Metr...</td>\n",
              "      <td>Kentucky</td>\n",
              "      <td>TEX</td>\n",
              "      <td>Track Excavators</td>\n",
              "      <td>NaN</td>\n",
              "      <td>EROPS</td>\n",
              "      <td>NaN</td>\n",
              "      <td>NaN</td>\n",
              "      <td>NaN</td>\n",
              "      <td>NaN</td>\n",
              "      <td>NaN</td>\n",
              "      <td>NaN</td>\n",
              "      <td>NaN</td>\n",
              "      <td>NaN</td>\n",
              "      <td>NaN</td>\n",
              "      <td>NaN</td>\n",
              "      <td>Standard</td>\n",
              "      <td>NaN</td>\n",
              "      <td>NaN</td>\n",
              "      <td>NaN</td>\n",
              "      <td>NaN</td>\n",
              "      <td>NaN</td>\n",
              "      <td>None or Unspecified</td>\n",
              "      <td>NaN</td>\n",
              "      <td>NaN</td>\n",
              "      <td>NaN</td>\n",
              "      <td>Steel</td>\n",
              "      <td>None or Unspecified</td>\n",
              "      <td>None or Unspecified</td>\n",
              "      <td>None or Unspecified</td>\n",
              "      <td>None or Unspecified</td>\n",
              "      <td>Double</td>\n",
              "      <td>NaN</td>\n",
              "      <td>NaN</td>\n",
              "      <td>NaN</td>\n",
              "      <td>NaN</td>\n",
              "      <td>NaN</td>\n",
              "    </tr>\n",
              "  </tbody>\n",
              "</table>\n",
              "</div>\n",
              "    <div class=\"colab-df-buttons\">\n",
              "\n",
              "  <div class=\"colab-df-container\">\n",
              "    <button class=\"colab-df-convert\" onclick=\"convertToInteractive('df-5c7f714e-ef9d-48cb-99f6-e19c44eda7a8')\"\n",
              "            title=\"Convert this dataframe to an interactive table.\"\n",
              "            style=\"display:none;\">\n",
              "\n",
              "  <svg xmlns=\"http://www.w3.org/2000/svg\" height=\"24px\" viewBox=\"0 -960 960 960\">\n",
              "    <path d=\"M120-120v-720h720v720H120Zm60-500h600v-160H180v160Zm220 220h160v-160H400v160Zm0 220h160v-160H400v160ZM180-400h160v-160H180v160Zm440 0h160v-160H620v160ZM180-180h160v-160H180v160Zm440 0h160v-160H620v160Z\"/>\n",
              "  </svg>\n",
              "    </button>\n",
              "\n",
              "  <style>\n",
              "    .colab-df-container {\n",
              "      display:flex;\n",
              "      gap: 12px;\n",
              "    }\n",
              "\n",
              "    .colab-df-convert {\n",
              "      background-color: #E8F0FE;\n",
              "      border: none;\n",
              "      border-radius: 50%;\n",
              "      cursor: pointer;\n",
              "      display: none;\n",
              "      fill: #1967D2;\n",
              "      height: 32px;\n",
              "      padding: 0 0 0 0;\n",
              "      width: 32px;\n",
              "    }\n",
              "\n",
              "    .colab-df-convert:hover {\n",
              "      background-color: #E2EBFA;\n",
              "      box-shadow: 0px 1px 2px rgba(60, 64, 67, 0.3), 0px 1px 3px 1px rgba(60, 64, 67, 0.15);\n",
              "      fill: #174EA6;\n",
              "    }\n",
              "\n",
              "    .colab-df-buttons div {\n",
              "      margin-bottom: 4px;\n",
              "    }\n",
              "\n",
              "    [theme=dark] .colab-df-convert {\n",
              "      background-color: #3B4455;\n",
              "      fill: #D2E3FC;\n",
              "    }\n",
              "\n",
              "    [theme=dark] .colab-df-convert:hover {\n",
              "      background-color: #434B5C;\n",
              "      box-shadow: 0px 1px 3px 1px rgba(0, 0, 0, 0.15);\n",
              "      filter: drop-shadow(0px 1px 2px rgba(0, 0, 0, 0.3));\n",
              "      fill: #FFFFFF;\n",
              "    }\n",
              "  </style>\n",
              "\n",
              "    <script>\n",
              "      const buttonEl =\n",
              "        document.querySelector('#df-5c7f714e-ef9d-48cb-99f6-e19c44eda7a8 button.colab-df-convert');\n",
              "      buttonEl.style.display =\n",
              "        google.colab.kernel.accessAllowed ? 'block' : 'none';\n",
              "\n",
              "      async function convertToInteractive(key) {\n",
              "        const element = document.querySelector('#df-5c7f714e-ef9d-48cb-99f6-e19c44eda7a8');\n",
              "        const dataTable =\n",
              "          await google.colab.kernel.invokeFunction('convertToInteractive',\n",
              "                                                    [key], {});\n",
              "        if (!dataTable) return;\n",
              "\n",
              "        const docLinkHtml = 'Like what you see? Visit the ' +\n",
              "          '<a target=\"_blank\" href=https://colab.research.google.com/notebooks/data_table.ipynb>data table notebook</a>'\n",
              "          + ' to learn more about interactive tables.';\n",
              "        element.innerHTML = '';\n",
              "        dataTable['output_type'] = 'display_data';\n",
              "        await google.colab.output.renderOutput(dataTable, element);\n",
              "        const docLink = document.createElement('div');\n",
              "        docLink.innerHTML = docLinkHtml;\n",
              "        element.appendChild(docLink);\n",
              "      }\n",
              "    </script>\n",
              "  </div>\n",
              "\n",
              "\n",
              "    </div>\n",
              "  </div>\n"
            ],
            "application/vnd.google.colaboratory.intrinsic+json": {
              "type": "dataframe",
              "variable_name": "df_valid"
            }
          },
          "metadata": {},
          "execution_count": 45
        }
      ]
    },
    {
      "cell_type": "markdown",
      "source": [
        "## Exploratory Data Analysis (EDA)"
      ],
      "metadata": {
        "id": "dIQ1BlV7wZBe"
      }
    },
    {
      "cell_type": "code",
      "source": [
        "#df.fiProductClassDesc.value_counts()"
      ],
      "metadata": {
        "id": "30KP0HEQbhrB"
      },
      "execution_count": null,
      "outputs": []
    },
    {
      "cell_type": "code",
      "source": [
        "#df.info()"
      ],
      "metadata": {
        "id": "pfswzVUcRrUt"
      },
      "execution_count": null,
      "outputs": []
    },
    {
      "cell_type": "code",
      "source": [
        " #df.SalesID.nunique()"
      ],
      "metadata": {
        "id": "SVUG5kuEfcWT"
      },
      "execution_count": null,
      "outputs": []
    },
    {
      "cell_type": "code",
      "source": [
        "# df.isnull().sum()"
      ],
      "metadata": {
        "id": "lEziG3fNwb-F"
      },
      "execution_count": null,
      "outputs": []
    },
    {
      "cell_type": "code",
      "source": [
        "#df.describe()"
      ],
      "metadata": {
        "id": "vLqhFjn2R21j"
      },
      "execution_count": null,
      "outputs": []
    },
    {
      "cell_type": "code",
      "source": [
        "#sns.histplot(data=df, x='SalePrice', bins=20)"
      ],
      "metadata": {
        "id": "TCdKm_ok94x5"
      },
      "execution_count": null,
      "outputs": []
    },
    {
      "cell_type": "code",
      "source": [
        "# to see value_counts for all categorical columns, but some realy categorical columns has numerical type like ModelID\n",
        "categorical_cols = df.select_dtypes(include='object').columns\n",
        "for col in categorical_cols:\n",
        "  print(f\"Value counts for column '{col}':\")\n",
        "  print(df[col].value_counts())\n",
        "  print()"
      ],
      "metadata": {
        "id": "Zp2RHhayXZWC"
      },
      "execution_count": null,
      "outputs": []
    },
    {
      "cell_type": "markdown",
      "source": [
        "### 3. Data Preprocessing"
      ],
      "metadata": {
        "id": "PhCFYLEqQimv"
      }
    },
    {
      "cell_type": "code",
      "source": [
        "#df['Transmission'] = df['Transmission'].replace('AutoShift', 'Autoshift')"
      ],
      "metadata": {
        "id": "yaRgPnHY5hxN"
      },
      "execution_count": null,
      "outputs": []
    },
    {
      "cell_type": "code",
      "source": [
        "def fix_mistakes(X, replacement_dict):\n",
        "    #X = X.copy()\n",
        "    for col, replacements in replacement_dict.items():\n",
        "        X[col] = X[col].replace(replacements)\n",
        "    return X\n",
        "\n",
        "fix_mistakes(df, replacement_dict = {'Transmission': {'AutoShift': 'Autoshift'}})\n",
        "fix_mistakes(df_valid, replacement_dict = {'Transmission': {'AutoShift': 'Autoshift'}})"
      ],
      "metadata": {
        "id": "WSIdpODP2uYh"
      },
      "execution_count": null,
      "outputs": []
    },
    {
      "cell_type": "code",
      "source": [
        "def fix_data(X, date_col):\n",
        "    for col in date_col:\n",
        "        X[col] = pd.to_datetime(X[col])\n",
        "        X[col + '_Year'] = X[col].dt.year\n",
        "        X[col + '_Month'] = X[col].dt.month\n",
        "        X = X.drop(col, axis=1)\n",
        "    return X\n",
        "\n",
        "df = fix_data(df, date_col = ['saledate'])\n",
        "df_valid = fix_data(df_valid, date_col = ['saledate'])"
      ],
      "metadata": {
        "id": "Cnk0uWhQ3bwp"
      },
      "execution_count": null,
      "outputs": []
    },
    {
      "cell_type": "code",
      "source": [
        "def first_word_name(X, col):\n",
        "    for col_ in col:\n",
        "        X[col_+'_first_word'] = X[col_].apply(lambda x: x.split()[0] if isinstance(x, str) else x)\n",
        "    return X\n",
        "\n",
        "first_word_name(df, col = ['fiProductClassDesc'])\n",
        "first_word_name(df_valid, col = ['fiProductClassDesc'])"
      ],
      "metadata": {
        "id": "7gIXEAiS4lg4"
      },
      "execution_count": null,
      "outputs": []
    },
    {
      "cell_type": "code",
      "source": [
        "# OrdinalEncoder for column 'ProductSize':\n",
        "# df['ProductSize_3'] = df['ProductSize'].map({'Compact': 1, 'Mini': 2, 'High': 3, 'Small': 4, 'Medium': 5, 'High': 6, 'Large / Medium': 7, 'Large': 8})\n",
        "# df['ProductSize_3'] = df['ProductSize_3'].fillna(df['ProductSize_3'].mean())\n",
        "# df['ProductSize_3'].value_counts(), df['ProductSize_3'].isnull().sum()"
      ],
      "metadata": {
        "id": "xbYKmRxCEJLc"
      },
      "execution_count": null,
      "outputs": []
    },
    {
      "source": [
        "# processing of categorical ordinal features - using libruary Sklern OrdinalEncoder\n",
        "# encoder = OrdinalEncoder(categories=[['Low', 'Medium', 'High']], handle_unknown='use_encoded_value', unknown_value= -1) # Handle unknown values\n",
        "# df['UsageBand_3'] = encoder.fit_transform(df[['UsageBand']])\n",
        "# mean_real = df['UsageBand_3'][df.UsageBand_3.isin([0,1,2])].mean()\n",
        "# df['UsageBand_3'] = df['UsageBand_3'].replace(-1, mean_real)\n",
        "# # Fix: Fill missing values in the 'UsageBand_3' column and keep it in the DataFrame\n",
        "# df['UsageBand_3'] = df['UsageBand_3'].fillna(mean_real)\n",
        "# df['UsageBand_3'].value_counts(), df['UsageBand_3'].isnull().sum()\n"
      ],
      "cell_type": "code",
      "metadata": {
        "id": "t0dhntPlTicF"
      },
      "execution_count": null,
      "outputs": []
    },
    {
      "source": [
        "# 'Undercarriage_Pad_Width' - remove ' inch' from data - to numeric\n",
        "# df['Undercarriage_Pad_Width_3'] = df['Undercarriage_Pad_Width'].str.replace(' inch', '').replace('None or Unspecified', -1)\n",
        "# df['Undercarriage_Pad_Width_3'] = pd.to_numeric(df['Undercarriage_Pad_Width_3'])\n",
        "# mean_real_2 = df['Undercarriage_Pad_Width_3'][df.Undercarriage_Pad_Width_3 != -1].mean()\n",
        "# df['Undercarriage_Pad_Width_3'] = df['Undercarriage_Pad_Width_3'].replace(-1, mean_real_2)\n",
        "# df['Undercarriage_Pad_Width_3'] = df['Undercarriage_Pad_Width_3'].fillna(mean_real_2)\n",
        "# df['Undercarriage_Pad_Width_3'].value_counts(),df['Undercarriage_Pad_Width_3'].isnull().sum()"
      ],
      "cell_type": "code",
      "metadata": {
        "id": "7-jMMuVt4E4G"
      },
      "execution_count": null,
      "outputs": []
    },
    {
      "cell_type": "code",
      "source": [
        "# 'Stick_Length' - remove \" from data - to numeric\n",
        "# df['Stick_Length_3'] = df['Stick_Length'].str.replace(\"' \", '.').str.replace('\"', '').replace('None or Unspecified', -1)\n",
        "# df['Stick_Length_3'] = pd.to_numeric(df['Stick_Length_3'])\n",
        "# mean_real_3 = df['Stick_Length_3'][df.Stick_Length_3.isna() | df.Stick_Length_3 != -1 ].mean()\n",
        "# print(mean_real_3)\n",
        "# df['Stick_Length_3'] = df['Stick_Length_3'].replace(-1, mean_real_3)\n",
        "# df['Stick_Length_3'] = df['Stick_Length_3'].fillna(mean_real_3)\n",
        "# df['Stick_Length_3'].value_counts(), df['Stick_Length_3'].isnull().sum()"
      ],
      "metadata": {
        "id": "hOf7ElvKy73D"
      },
      "execution_count": null,
      "outputs": []
    },
    {
      "cell_type": "code",
      "source": [
        "#df[df['YearMade'] == 1000].head(20) # i have not idias what to do with year 1000"
      ],
      "metadata": {
        "id": "oEEe-qSaHyHH"
      },
      "execution_count": null,
      "outputs": []
    },
    {
      "cell_type": "markdown",
      "source": [
        "## Mean / Target coding"
      ],
      "metadata": {
        "id": "zmFxzf7MFOTg"
      }
    },
    {
      "cell_type": "code",
      "source": [
        "def make_target_mean_dict(X, target_col):\n",
        "    target_mean_dict = {}\n",
        "    target_nan_mean_dict = {}\n",
        "\n",
        "    for col in df.select_dtypes(exclude='number').columns:\n",
        "        target_mean_dict[col] = X.groupby(col)[target_col].mean().to_dict()\n",
        "        target_nan_mean_dict[col] = X[df[col].isna()][target_col].mean()\n",
        "\n",
        "    return target_mean_dict, target_nan_mean_dict\n",
        "\n",
        "\n",
        "target_mean_dict, target_nan_mean_dict = make_target_mean_dict(df, target_col = 'SalePrice')\n",
        "\n",
        "\n",
        "def target_encode(X, target_mean_dict, target_nan_mean_dict):\n",
        "    for col in X.select_dtypes(exclude='number').columns:\n",
        "        X[col + '_2'] = X[col].map(target_mean_dict[col]).fillna(target_nan_mean_dict[col])\n",
        "        X[col + '_2'] = X[col + '_2'].astype(float)\n",
        "    return X\n",
        "\n",
        "df = target_encode(df, target_mean_dict, target_nan_mean_dict)\n",
        "df_valid = target_encode(df_valid, target_mean_dict, target_nan_mean_dict)"
      ],
      "metadata": {
        "id": "yEsroVcqEqio"
      },
      "execution_count": null,
      "outputs": []
    },
    {
      "cell_type": "markdown",
      "source": [
        "# Datas for model"
      ],
      "metadata": {
        "id": "GqOepCDgRE4N"
      }
    },
    {
      "cell_type": "code",
      "source": [
        "df2 = df.select_dtypes('number')\n",
        "X_valid = df_valid.select_dtypes('number')\n",
        "\n",
        "y = df2['SalePrice']\n",
        "X = df2.drop(columns=['SalePrice', 'MachineID', 'ModelID', 'SalesID'])\n",
        "X_valid2 = X_valid.drop(columns=['MachineID', 'ModelID', 'SalesID'])\n",
        "\n",
        "X_small = X #.sample(150000, random_state=42)\n",
        "y_small = y #.loc[X_small.index]\n",
        "\n",
        "X_small = X_small.fillna(X_small.mean())\n",
        "X_valid2 = X_valid2.fillna(X_small.mean())\n",
        "\n",
        "X_train, X_test, y_train, y_test = train_test_split(X_small, y_small, test_size=0.2, random_state=42)"
      ],
      "metadata": {
        "id": "1wW25fcaG-5G"
      },
      "execution_count": null,
      "outputs": []
    },
    {
      "cell_type": "code",
      "source": [
        "%%time\n",
        "model = RandomForestRegressor(n_jobs=-1,\n",
        "                              n_estimators = 200,\n",
        "                              #max_depth = 12,\n",
        "                              min_impurity_decrease = 1000,\n",
        "                              random_state=42\n",
        "\n",
        "                              )\n",
        "model.fit(X_train, y_train)\n",
        "\n",
        "y_train_pred = model.predict(X_train)\n",
        "y_test_pred = model.predict(X_test)\n",
        "\n",
        "y_valid_pred = model.predict(X_valid2)\n",
        "\n",
        "print(f'Train RMSE:', np.sqrt(mean_squared_error(y_train, y_train_pred)))\n",
        "print(f'Test RMSE:', np.sqrt(mean_squared_error(y_test, y_test_pred)))\n",
        "print(f'R²:' , r2_score(y_test, y_test_pred))\n",
        "print(f'Train MAE:', mean_absolute_error(y_train, y_train_pred))\n",
        "print(f'Test MAE:', mean_absolute_error(y_test, y_test_pred))\n"
      ],
      "metadata": {
        "colab": {
          "base_uri": "https://localhost:8080/"
        },
        "id": "XCqjoGIAMQRp",
        "outputId": "fe7d1609-dba7-4c0a-d80d-0dd1dca332cf"
      },
      "execution_count": null,
      "outputs": [
        {
          "output_type": "stream",
          "name": "stdout",
          "text": [
            "Train RMSE: 4485.016203734003\n",
            "Test RMSE: 6790.17059422435\n",
            "R²: 0.911810553628327\n",
            "Train MAE: 3307.9959085253313\n",
            "Test MAE: 4395.827189033359\n",
            "CPU times: user 17min 23s, sys: 3.22 s, total: 17min 27s\n",
            "Wall time: 10min 41s\n"
          ]
        }
      ]
    },
    {
      "cell_type": "code",
      "source": [
        "### Feature importance\n",
        "pd.Series(\n",
        "    model.feature_importances_,\n",
        "    index=model.feature_names_in_\n",
        ").sort_values(ascending=False)"
      ],
      "metadata": {
        "id": "jcMpXIs0PO_m",
        "outputId": "ca451cfd-7e89-4b8a-fd0f-7a7bfd67ca4a",
        "colab": {
          "base_uri": "https://localhost:8080/"
        }
      },
      "execution_count": null,
      "outputs": [
        {
          "output_type": "execute_result",
          "data": {
            "text/plain": [
              "fiModelDesc_2                      0.783209\n",
              "saledate_Year                      0.070861\n",
              "YearMade                           0.057670\n",
              "saledate_Month                     0.011738\n",
              "state_2                            0.009519\n",
              "fiBaseModel_2                      0.008763\n",
              "fiProductClassDesc_2               0.007891\n",
              "Enclosure_2                        0.005203\n",
              "auctioneerID                       0.004721\n",
              "fiSecondaryDesc_2                  0.004112\n",
              "MachineHoursCurrentMeter           0.003980\n",
              "Ripper_2                           0.003777\n",
              "ProductSize_2                      0.002794\n",
              "Tire_Size_2                        0.002274\n",
              "fiModelDescriptor_2                0.002104\n",
              "fiModelSeries_2                    0.001704\n",
              "Blade_Type_2                       0.001686\n",
              "Hydraulics_2                       0.001621\n",
              "UsageBand_2                        0.001563\n",
              "Stick_Length_2                     0.001552\n",
              "Coupler_2                          0.001191\n",
              "Transmission_2                     0.001139\n",
              "Undercarriage_Pad_Width_2          0.001138\n",
              "datasource                         0.001129\n",
              "Drive_System_2                     0.000796\n",
              "Blade_Width_2                      0.000699\n",
              "Thumb_2                            0.000676\n",
              "Travel_Controls_2                  0.000660\n",
              "Forks_2                            0.000623\n",
              "Grouser_Type_2                     0.000564\n",
              "Ride_Control_2                     0.000503\n",
              "fiProductClassDesc_first_word_2    0.000455\n",
              "ProductGroup_2                     0.000435\n",
              "ProductGroupDesc_2                 0.000427\n",
              "Scarifier_2                        0.000407\n",
              "Tip_Control_2                      0.000331\n",
              "Enclosure_Type_2                   0.000321\n",
              "Pattern_Changer_2                  0.000292\n",
              "Pushblock_2                        0.000283\n",
              "Track_Type_2                       0.000230\n",
              "Differential_Type_2                0.000223\n",
              "Steering_Controls_2                0.000179\n",
              "Engine_Horsepower_2                0.000150\n",
              "Backhoe_Mounting_2                 0.000140\n",
              "Blade_Extension_2                  0.000131\n",
              "Stick_2                            0.000060\n",
              "Turbocharged_2                     0.000029\n",
              "Pad_Type_2                         0.000026\n",
              "Hydraulics_Flow_2                  0.000008\n",
              "Grouser_Tracks_2                   0.000007\n",
              "Coupler_System_2                   0.000006\n",
              "dtype: float64"
            ]
          },
          "metadata": {},
          "execution_count": 76
        }
      ]
    },
    {
      "cell_type": "code",
      "source": [
        "# Create a submission file\n",
        "submission = pd.DataFrame({'SalesID': X_valid['SalesID'], 'SalePrice': y_valid_pred})\n",
        "submission.to_csv('final_submission.csv', index=False)"
      ],
      "metadata": {
        "id": "P5NywMhp16nq"
      },
      "execution_count": null,
      "outputs": []
    }
  ]
}